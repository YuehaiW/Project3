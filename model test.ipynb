{
 "cells": [
  {
   "cell_type": "code",
   "id": "initial_id",
   "metadata": {
    "collapsed": true,
    "ExecuteTime": {
     "end_time": "2024-06-14T06:16:09.361494Z",
     "start_time": "2024-06-14T06:16:07.936086Z"
    }
   },
   "source": [
    "import pandas as pd\n",
    "import numpy as np\n",
    "import xgboost as xgb\n",
    "import matplotlib.pyplot as plt\n",
    "\n",
    "from imblearn.over_sampling import RandomOverSampler\n",
    "from sklearn.model_selection import GridSearchCV\n",
    "from sklearn.metrics import roc_curve, auc, confusion_matrix\n",
    "from xgboost import XGBClassifier"
   ],
   "outputs": [],
   "execution_count": 1
  },
  {
   "metadata": {
    "ExecuteTime": {
     "end_time": "2024-06-14T06:16:09.688455Z",
     "start_time": "2024-06-14T06:16:09.363105Z"
    }
   },
   "cell_type": "code",
   "source": [
    "df = pd.read_parquet('ST data.parquet')\n",
    "data = df.copy()"
   ],
   "id": "15dbf13efe5d43ad",
   "outputs": [],
   "execution_count": 2
  },
  {
   "metadata": {
    "ExecuteTime": {
     "end_time": "2024-06-14T06:16:09.755630Z",
     "start_time": "2024-06-14T06:16:09.690434Z"
    }
   },
   "cell_type": "code",
   "source": [
    "# 数据量\n",
    "len(df), len(df.date.unique()), len(df.code.unique())"
   ],
   "id": "afffea3453b9160c",
   "outputs": [
    {
     "data": {
      "text/plain": [
       "(586213, 172, 5532)"
      ]
     },
     "execution_count": 3,
     "metadata": {},
     "output_type": "execute_result"
    }
   ],
   "execution_count": 3
  },
  {
   "metadata": {
    "ExecuteTime": {
     "end_time": "2024-06-14T06:16:10.534603Z",
     "start_time": "2024-06-14T06:16:09.757179Z"
    }
   },
   "cell_type": "code",
   "source": [
    "# 查看数据统计信息\n",
    "df_summary = pd.DataFrame(index=df.columns[2:], columns=['mean', 'std', 'min', 'max', 'Nan_num'])\n",
    "df_summary['mean'] = df.iloc[:, 2:].mean()\n",
    "df_summary['std'] = df.iloc[:, 2:].std()\n",
    "df_summary['min'] = df.iloc[:, 2:].min()\n",
    "df_summary['max'] = df.iloc[:, 2:].max()\n",
    "df_summary['Nan_num'] = df.iloc[:, 2:].isna().sum()"
   ],
   "id": "523820b6bff28553",
   "outputs": [],
   "execution_count": 4
  },
  {
   "metadata": {
    "ExecuteTime": {
     "end_time": "2024-06-14T06:16:10.560901Z",
     "start_time": "2024-06-14T06:16:10.539603Z"
    }
   },
   "cell_type": "code",
   "source": "df_summary.head()",
   "id": "83f6c257bda8525f",
   "outputs": [
    {
     "data": {
      "text/plain": [
       "                      mean           std           min           max  Nan_num\n",
       "net_profit    5.194375e+08  5.800263e+09 -5.886218e+10  3.614110e+11        0\n",
       "eps           2.569885e-01  7.033493e-01 -2.478340e+01  4.993000e+01      334\n",
       "gross_margin  2.871837e+01  5.895004e+01 -9.977290e+03  1.154333e+02    11949\n",
       "net_margin   -9.240980e+01  2.059841e+04 -7.156098e+06  1.336865e+06      722\n",
       "roe           2.677114e+00  1.069789e+02 -1.921003e+04  7.336719e+03     4440"
      ],
      "text/html": [
       "<div>\n",
       "<style scoped>\n",
       "    .dataframe tbody tr th:only-of-type {\n",
       "        vertical-align: middle;\n",
       "    }\n",
       "\n",
       "    .dataframe tbody tr th {\n",
       "        vertical-align: top;\n",
       "    }\n",
       "\n",
       "    .dataframe thead th {\n",
       "        text-align: right;\n",
       "    }\n",
       "</style>\n",
       "<table border=\"1\" class=\"dataframe\">\n",
       "  <thead>\n",
       "    <tr style=\"text-align: right;\">\n",
       "      <th></th>\n",
       "      <th>mean</th>\n",
       "      <th>std</th>\n",
       "      <th>min</th>\n",
       "      <th>max</th>\n",
       "      <th>Nan_num</th>\n",
       "    </tr>\n",
       "  </thead>\n",
       "  <tbody>\n",
       "    <tr>\n",
       "      <th>net_profit</th>\n",
       "      <td>5.194375e+08</td>\n",
       "      <td>5.800263e+09</td>\n",
       "      <td>-5.886218e+10</td>\n",
       "      <td>3.614110e+11</td>\n",
       "      <td>0</td>\n",
       "    </tr>\n",
       "    <tr>\n",
       "      <th>eps</th>\n",
       "      <td>2.569885e-01</td>\n",
       "      <td>7.033493e-01</td>\n",
       "      <td>-2.478340e+01</td>\n",
       "      <td>4.993000e+01</td>\n",
       "      <td>334</td>\n",
       "    </tr>\n",
       "    <tr>\n",
       "      <th>gross_margin</th>\n",
       "      <td>2.871837e+01</td>\n",
       "      <td>5.895004e+01</td>\n",
       "      <td>-9.977290e+03</td>\n",
       "      <td>1.154333e+02</td>\n",
       "      <td>11949</td>\n",
       "    </tr>\n",
       "    <tr>\n",
       "      <th>net_margin</th>\n",
       "      <td>-9.240980e+01</td>\n",
       "      <td>2.059841e+04</td>\n",
       "      <td>-7.156098e+06</td>\n",
       "      <td>1.336865e+06</td>\n",
       "      <td>722</td>\n",
       "    </tr>\n",
       "    <tr>\n",
       "      <th>roe</th>\n",
       "      <td>2.677114e+00</td>\n",
       "      <td>1.069789e+02</td>\n",
       "      <td>-1.921003e+04</td>\n",
       "      <td>7.336719e+03</td>\n",
       "      <td>4440</td>\n",
       "    </tr>\n",
       "  </tbody>\n",
       "</table>\n",
       "</div>"
      ]
     },
     "execution_count": 5,
     "metadata": {},
     "output_type": "execute_result"
    }
   ],
   "execution_count": 5
  },
  {
   "metadata": {
    "ExecuteTime": {
     "end_time": "2024-06-14T06:16:10.676803Z",
     "start_time": "2024-06-14T06:16:10.561931Z"
    }
   },
   "cell_type": "code",
   "source": "df_summary.to_excel('factor summary.xlsx')",
   "id": "3387a0d5b1fe9de8",
   "outputs": [],
   "execution_count": 6
  },
  {
   "metadata": {
    "ExecuteTime": {
     "end_time": "2024-06-14T06:16:17.480367Z",
     "start_time": "2024-06-14T06:16:10.677893Z"
    }
   },
   "cell_type": "code",
   "source": [
    "train, test = data[data.date <= '20231231'], data[data.date >= '20240101']\n",
    "X_train, y_train = train.drop(['date', 'code', 'is_st'], axis=1), train['is_st']\n",
    "X_test, y_test = test.drop(['date', 'code', 'is_st'], axis=1), test['is_st']\n",
    "sampler = RandomOverSampler()\n",
    "X_rsl, y_rsl = sampler.fit_resample(X_train, y_train)\n",
    "\n",
    "parameters = {'n_estimators': 100, 'max_depth': 7, 'reg_alpha': 8, 'reg_lambda': 8, 'Gamma': 8}\n",
    "model_xgb = XGBClassifier(n_estimators=100, max_depth=7, reg_alpha=8, reg_lambda=8, gamma=8,\n",
    "                          objective=\"binary:logistic\", eval_metric=\"auc\", seed=123)\n",
    "model_xgb.fit(X_rsl, y_rsl)\n",
    "y_pred_xgb = model_xgb.predict(X_test)\n",
    "y_pred_pr = model_xgb.predict_proba(X_test)"
   ],
   "id": "2b16e40f3b3dd6f3",
   "outputs": [],
   "execution_count": 7
  },
  {
   "cell_type": "code",
   "source": [
    "fpr_xgb, tpr_xgb, thr_xgb = roc_curve(y_test, y_pred_pr[:, 1])\n",
    "auc_xgb = auc(fpr_xgb, tpr_xgb)\n",
    "print(\"AUC Score: {}\".format(auc_xgb))\n",
    "mat = confusion_matrix(y_test, y_pred_xgb)\n",
    "tn, fp, fn, tp = mat[0, 0], mat[0, 1], mat[1, 0], mat[1, 1]\n",
    "\n",
    "\n",
    "# 计算常用指标\n",
    "def compute_indexes(tp, fp, tn, fn):\n",
    "    accuracy = (tp + tn) / (tp + tn + fp + fn)\n",
    "    precision = tp / (tp + fp)\n",
    "    recall = tp / (tp + fn)\n",
    "    F1 = (2 * precision * recall) / (precision + recall)\n",
    "    return accuracy, precision, recall, F1\n",
    "\n",
    "\n",
    "compute_indexes(tp, fp, tn, fn)"
   ],
   "metadata": {
    "collapsed": false,
    "ExecuteTime": {
     "end_time": "2024-06-14T06:16:17.504427Z",
     "start_time": "2024-06-14T06:16:17.482914Z"
    }
   },
   "id": "978f88fe1ba7c35b",
   "outputs": [
    {
     "name": "stdout",
     "output_type": "stream",
     "text": [
      "AUC Score: 0.9692374075224549\n"
     ]
    },
    {
     "data": {
      "text/plain": [
       "(0.9510633325543352,\n",
       " 0.35429344151453684,\n",
       " 0.8506493506493507,\n",
       " 0.5002386634844869)"
      ]
     },
     "execution_count": 8,
     "metadata": {},
     "output_type": "execute_result"
    }
   ],
   "execution_count": 8
  },
  {
   "metadata": {
    "ExecuteTime": {
     "end_time": "2024-06-14T06:16:17.767434Z",
     "start_time": "2024-06-14T06:16:17.505928Z"
    }
   },
   "cell_type": "code",
   "source": [
    "plt.figure()  \n",
    "lw = 2  \n",
    "plt.plot(fpr_xgb, tpr_xgb, color='darkorange', lw=lw, label='ROC curve (area = %0.2f)' % auc_xgb)  \n",
    "plt.plot([0, 1], [0, 1], color='navy', lw=lw, linestyle='--')  \n",
    "plt.xlim([0.0, 1.0])  \n",
    "plt.ylim([0.0, 1.05])  \n",
    "plt.xlabel('FPR')  \n",
    "plt.ylabel('TPR')  \n",
    "plt.title('ROC')  \n",
    "plt.legend(loc=\"lower right\")  \n",
    "plt.show()"
   ],
   "id": "b7b81f3f69be21b8",
   "outputs": [
    {
     "data": {
      "text/plain": [
       "<Figure size 640x480 with 1 Axes>"
      ],
      "image/png": "[encoded data removed]"
     },
     "metadata": {},
     "output_type": "display_data"
    }
   ],
   "execution_count": 9
  },
  {
   "metadata": {
    "ExecuteTime": {
     "end_time": "2024-06-14T06:16:17.946587Z",
     "start_time": "2024-06-14T06:16:17.769421Z"
    }
   },
   "cell_type": "code",
   "source": [
    "f1_score = np.zeros(50)\n",
    "for p in np.arange(0.5, 1, 0.01):\n",
    "    y_thr = y_pred_pr[:, 1].copy()\n",
    "    y_thr[y_thr >= p] = 1\n",
    "    y_thr[y_thr < p] = 0\n",
    "    \n",
    "    mat = confusion_matrix(y_test, y_thr)\n",
    "    tn, fp, fn, tp = mat[0, 0], mat[0, 1], mat[1, 0], mat[1, 1]\n",
    "    f1_score[int((p - 0.5) * 100)] = compute_indexes(tp, fp, tn, fn)[3]"
   ],
   "id": "8d5c1aea5dfc906a",
   "outputs": [],
   "execution_count": 10
  },
  {
   "metadata": {
    "ExecuteTime": {
     "end_time": "2024-06-14T06:16:17.953076Z",
     "start_time": "2024-06-14T06:16:17.948384Z"
    }
   },
   "cell_type": "code",
   "source": "np.argmax(f1_score)",
   "id": "2f9c3c77d64f30b7",
   "outputs": [
    {
     "data": {
      "text/plain": [
       "36"
      ]
     },
     "execution_count": 11,
     "metadata": {},
     "output_type": "execute_result"
    }
   ],
   "execution_count": 11
  },
  {
   "metadata": {
    "ExecuteTime": {
     "end_time": "2024-06-14T06:16:17.964677Z",
     "start_time": "2024-06-14T06:16:17.954580Z"
    }
   },
   "cell_type": "code",
   "source": [
    "y_thr = y_pred_pr[:, 1].copy()\n",
    "y_thr[y_thr >= 0.91] = 1\n",
    "y_thr[y_thr < 0.91] = 0\n",
    "\n",
    "mat = confusion_matrix(y_test, y_thr)\n",
    "tn, fp, fn, tp = mat[0, 0], mat[0, 1], mat[1, 0], mat[1, 1]\n",
    "compute_indexes(tp, fp, tn, fn)"
   ],
   "id": "a401641b07d56b8e",
   "outputs": [
    {
     "data": {
      "text/plain": [
       "(0.9807899041832204,\n",
       " 0.6880733944954128,\n",
       " 0.6087662337662337,\n",
       " 0.6459948320413437)"
      ]
     },
     "execution_count": 12,
     "metadata": {},
     "output_type": "execute_result"
    }
   ],
   "execution_count": 12
  },
  {
   "metadata": {
    "ExecuteTime": {
     "end_time": "2024-06-14T06:30:44.772334Z",
     "start_time": "2024-06-14T06:16:17.966023Z"
    }
   },
   "cell_type": "code",
   "source": [
    "# 网格搜索寻找最优参数（示例）\n",
    "parameters = {\"learning_rate\": [0.2, 0.25, 0.3], \"n_estimators\":range(80,101,10), \"max_depth\":range(7, 11, 1)}\n",
    "\n",
    "xgb_grid = GridSearchCV(model_xgb, parameters, scoring=\"roc_auc\", verbose=1)\n",
    "xgb_grid.fit(X_rsl, y_rsl)\n",
    "print(\"The best parameters are: \", xgb_grid.best_params_)\n",
    "y_pred_bp = xgb_grid.predict_proba(X_test)\n",
    "fpr_bp, tpr_bp, thr_bp = roc_curve(y_test, y_pred_bp[:, 1])\n",
    "auc_bp = auc(fpr_bp, tpr_bp)\n",
    "print(\"Test AUC of XGB after hyper-parameter tuning: {}\".format(auc_bp))"
   ],
   "id": "5dda79311a894c8c",
   "outputs": [
    {
     "name": "stdout",
     "output_type": "stream",
     "text": [
      "Fitting 5 folds for each of 36 candidates, totalling 180 fits\n",
      "The best parameters are:  {'learning_rate': 0.25, 'max_depth': 10, 'n_estimators': 90}\n",
      "Test AUC of XGB after hyper-parameter tuning: 0.9737062440663432\n"
     ]
    }
   ],
   "execution_count": 13
  },
  {
   "metadata": {
    "ExecuteTime": {
     "end_time": "2024-06-14T06:30:44.783139Z",
     "start_time": "2024-06-14T06:30:44.777318Z"
    }
   },
   "cell_type": "code",
   "source": [
    "# 交叉验证结果，储存在cv_results中\n",
    "cv_results = pd.DataFrame.from_dict(xgb_grid.cv_results_)"
   ],
   "id": "fbcb6181ff41c0a5",
   "outputs": [],
   "execution_count": 14
  },
  {
   "metadata": {
    "ExecuteTime": {
     "end_time": "2024-06-14T06:30:44.806690Z",
     "start_time": "2024-06-14T06:30:44.784647Z"
    }
   },
   "cell_type": "code",
   "source": "cv_results.head()",
   "id": "14632c57fe4515ff",
   "outputs": [
    {
     "data": {
      "text/plain": [
       "   mean_fit_time  std_fit_time  mean_score_time  std_score_time  \\\n",
       "0       3.955316      0.162604         0.127360        0.009889   \n",
       "1       4.148573      0.141368         0.121160        0.004078   \n",
       "2       4.480073      0.134978         0.133707        0.014767   \n",
       "3       4.473173      0.144037         0.118818        0.001471   \n",
       "4       4.500639      0.133646         0.122130        0.002464   \n",
       "\n",
       "  param_learning_rate param_max_depth param_n_estimators  \\\n",
       "0                 0.2               7                 80   \n",
       "1                 0.2               7                 90   \n",
       "2                 0.2               7                100   \n",
       "3                 0.2               8                 80   \n",
       "4                 0.2               8                 90   \n",
       "\n",
       "                                              params  split0_test_score  \\\n",
       "0  {'learning_rate': 0.2, 'max_depth': 7, 'n_esti...           0.985869   \n",
       "1  {'learning_rate': 0.2, 'max_depth': 7, 'n_esti...           0.987787   \n",
       "2  {'learning_rate': 0.2, 'max_depth': 7, 'n_esti...           0.989126   \n",
       "3  {'learning_rate': 0.2, 'max_depth': 8, 'n_esti...           0.990975   \n",
       "4  {'learning_rate': 0.2, 'max_depth': 8, 'n_esti...           0.992276   \n",
       "\n",
       "   split1_test_score  split2_test_score  split3_test_score  split4_test_score  \\\n",
       "0           0.976067           0.986614           0.994199           0.996880   \n",
       "1           0.978396           0.987922           0.995103           0.997381   \n",
       "2           0.980085           0.989450           0.995719           0.997807   \n",
       "3           0.983722           0.991579           0.996512           0.998350   \n",
       "4           0.985145           0.992710           0.997125           0.998632   \n",
       "\n",
       "   mean_test_score  std_test_score  rank_test_score  \n",
       "0         0.987926        0.007295               36  \n",
       "1         0.989318        0.006664               35  \n",
       "2         0.990437        0.006198               34  \n",
       "3         0.992228        0.005102               30  \n",
       "4         0.993178        0.004709               27  "
      ],
      "text/html": [
       "<div>\n",
       "<style scoped>\n",
       "    .dataframe tbody tr th:only-of-type {\n",
       "        vertical-align: middle;\n",
       "    }\n",
       "\n",
       "    .dataframe tbody tr th {\n",
       "        vertical-align: top;\n",
       "    }\n",
       "\n",
       "    .dataframe thead th {\n",
       "        text-align: right;\n",
       "    }\n",
       "</style>\n",
       "<table border=\"1\" class=\"dataframe\">\n",
       "  <thead>\n",
       "    <tr style=\"text-align: right;\">\n",
       "      <th></th>\n",
       "      <th>mean_fit_time</th>\n",
       "      <th>std_fit_time</th>\n",
       "      <th>mean_score_time</th>\n",
       "      <th>std_score_time</th>\n",
       "      <th>param_learning_rate</th>\n",
       "      <th>param_max_depth</th>\n",
       "      <th>param_n_estimators</th>\n",
       "      <th>params</th>\n",
       "      <th>split0_test_score</th>\n",
       "      <th>split1_test_score</th>\n",
       "      <th>split2_test_score</th>\n",
       "      <th>split3_test_score</th>\n",
       "      <th>split4_test_score</th>\n",
       "      <th>mean_test_score</th>\n",
       "      <th>std_test_score</th>\n",
       "      <th>rank_test_score</th>\n",
       "    </tr>\n",
       "  </thead>\n",
       "  <tbody>\n",
       "    <tr>\n",
       "      <th>0</th>\n",
       "      <td>3.955316</td>\n",
       "      <td>0.162604</td>\n",
       "      <td>0.127360</td>\n",
       "      <td>0.009889</td>\n",
       "      <td>0.2</td>\n",
       "      <td>7</td>\n",
       "      <td>80</td>\n",
       "      <td>{'learning_rate': 0.2, 'max_depth': 7, 'n_esti...</td>\n",
       "      <td>0.985869</td>\n",
       "      <td>0.976067</td>\n",
       "      <td>0.986614</td>\n",
       "      <td>0.994199</td>\n",
       "      <td>0.996880</td>\n",
       "      <td>0.987926</td>\n",
       "      <td>0.007295</td>\n",
       "      <td>36</td>\n",
       "    </tr>\n",
       "    <tr>\n",
       "      <th>1</th>\n",
       "      <td>4.148573</td>\n",
       "      <td>0.141368</td>\n",
       "      <td>0.121160</td>\n",
       "      <td>0.004078</td>\n",
       "      <td>0.2</td>\n",
       "      <td>7</td>\n",
       "      <td>90</td>\n",
       "      <td>{'learning_rate': 0.2, 'max_depth': 7, 'n_esti...</td>\n",
       "      <td>0.987787</td>\n",
       "      <td>0.978396</td>\n",
       "      <td>0.987922</td>\n",
       "      <td>0.995103</td>\n",
       "      <td>0.997381</td>\n",
       "      <td>0.989318</td>\n",
       "      <td>0.006664</td>\n",
       "      <td>35</td>\n",
       "    </tr>\n",
       "    <tr>\n",
       "      <th>2</th>\n",
       "      <td>4.480073</td>\n",
       "      <td>0.134978</td>\n",
       "      <td>0.133707</td>\n",
       "      <td>0.014767</td>\n",
       "      <td>0.2</td>\n",
       "      <td>7</td>\n",
       "      <td>100</td>\n",
       "      <td>{'learning_rate': 0.2, 'max_depth': 7, 'n_esti...</td>\n",
       "      <td>0.989126</td>\n",
       "      <td>0.980085</td>\n",
       "      <td>0.989450</td>\n",
       "      <td>0.995719</td>\n",
       "      <td>0.997807</td>\n",
       "      <td>0.990437</td>\n",
       "      <td>0.006198</td>\n",
       "      <td>34</td>\n",
       "    </tr>\n",
       "    <tr>\n",
       "      <th>3</th>\n",
       "      <td>4.473173</td>\n",
       "      <td>0.144037</td>\n",
       "      <td>0.118818</td>\n",
       "      <td>0.001471</td>\n",
       "      <td>0.2</td>\n",
       "      <td>8</td>\n",
       "      <td>80</td>\n",
       "      <td>{'learning_rate': 0.2, 'max_depth': 8, 'n_esti...</td>\n",
       "      <td>0.990975</td>\n",
       "      <td>0.983722</td>\n",
       "      <td>0.991579</td>\n",
       "      <td>0.996512</td>\n",
       "      <td>0.998350</td>\n",
       "      <td>0.992228</td>\n",
       "      <td>0.005102</td>\n",
       "      <td>30</td>\n",
       "    </tr>\n",
       "    <tr>\n",
       "      <th>4</th>\n",
       "      <td>4.500639</td>\n",
       "      <td>0.133646</td>\n",
       "      <td>0.122130</td>\n",
       "      <td>0.002464</td>\n",
       "      <td>0.2</td>\n",
       "      <td>8</td>\n",
       "      <td>90</td>\n",
       "      <td>{'learning_rate': 0.2, 'max_depth': 8, 'n_esti...</td>\n",
       "      <td>0.992276</td>\n",
       "      <td>0.985145</td>\n",
       "      <td>0.992710</td>\n",
       "      <td>0.997125</td>\n",
       "      <td>0.998632</td>\n",
       "      <td>0.993178</td>\n",
       "      <td>0.004709</td>\n",
       "      <td>27</td>\n",
       "    </tr>\n",
       "  </tbody>\n",
       "</table>\n",
       "</div>"
      ]
     },
     "execution_count": 15,
     "metadata": {},
     "output_type": "execute_result"
    }
   ],
   "execution_count": 15
  },
  {
   "metadata": {
    "ExecuteTime": {
     "end_time": "2024-06-14T06:30:45.024088Z",
     "start_time": "2024-06-14T06:30:44.808181Z"
    }
   },
   "cell_type": "code",
   "source": [
    "f1_score = np.zeros(50)\n",
    "for p in np.arange(0.5, 1, 0.01):\n",
    "    y_thr = y_pred_bp[:, 1].copy()\n",
    "    y_thr[y_thr >= p] = 1\n",
    "    y_thr[y_thr < p] = 0\n",
    "    \n",
    "    mat = confusion_matrix(y_test, y_thr)\n",
    "    tn, fp, fn, tp = mat[0, 0], mat[0, 1], mat[1, 0], mat[1, 1]\n",
    "    f1_score[int((p - 0.5) * 100)] = compute_indexes(tp, fp, tn, fn)[3]"
   ],
   "id": "c02fc0d20da3acdb",
   "outputs": [],
   "execution_count": 16
  },
  {
   "metadata": {
    "ExecuteTime": {
     "end_time": "2024-06-14T06:30:45.028872Z",
     "start_time": "2024-06-14T06:30:45.025139Z"
    }
   },
   "cell_type": "code",
   "source": "f1_score",
   "id": "6133538a080a8c5",
   "outputs": [
    {
     "data": {
      "text/plain": [
       "array([0.60222613, 0.60854093, 0.61234272, 0.6128838 , 0.61838101,\n",
       "       0.62315271, 0.62882096, 0.63390044, 0.64076433, 0.64774194,\n",
       "       0.65191932, 0.6530343 , 0.65643763, 0.65863454, 0.66261808,\n",
       "       0.66303608, 0.66620785, 0.66897988, 0.67131891, 0.67368421,\n",
       "       0.67806268, 0.6795977 , 0.68317553, 0.68424908, 0.68639053,\n",
       "       0.68754661, 0.69022556, 0.68986384, 0.69101979, 0.69166029,\n",
       "       0.69511249, 0.69278997, 0.70047544, 0.70127796, 0.70265915,\n",
       "       0.69983687, 0.69744435, 0.69391159, 0.6893617 , 0.68571429,\n",
       "       0.68006993, 0.68092692, 0.67870036, 0.66297322, 0.65657521,\n",
       "       0.64410058, 0.62772277, 0.60878447, 0.57417289, 0.5132336 ])"
      ]
     },
     "execution_count": 17,
     "metadata": {},
     "output_type": "execute_result"
    }
   ],
   "execution_count": 17
  },
  {
   "metadata": {
    "ExecuteTime": {
     "end_time": "2024-06-14T06:30:45.033079Z",
     "start_time": "2024-06-14T06:30:45.029794Z"
    }
   },
   "cell_type": "code",
   "source": "np.argmax(f1_score)",
   "id": "1178ed5f69aa0a0",
   "outputs": [
    {
     "data": {
      "text/plain": [
       "34"
      ]
     },
     "execution_count": 18,
     "metadata": {},
     "output_type": "execute_result"
    }
   ],
   "execution_count": 18
  },
  {
   "metadata": {
    "ExecuteTime": {
     "end_time": "2024-06-14T06:30:45.041769Z",
     "start_time": "2024-06-14T06:30:45.034003Z"
    }
   },
   "cell_type": "code",
   "source": [
    "y_thr = y_pred_bp[:, 1].copy()\n",
    "y_thr[y_thr >= 0.89] = 1\n",
    "y_thr[y_thr < 0.89] = 0\n",
    "\n",
    "mat = confusion_matrix(y_test, y_thr)\n",
    "tn, fp, fn, tp = mat[0, 0], mat[0, 1], mat[1, 0], mat[1, 1]\n",
    "compute_indexes(tp, fp, tn, fn)"
   ],
   "id": "ee8367e6599d5db5",
   "outputs": [
    {
     "data": {
      "text/plain": [
       "(0.9830334190231362,\n",
       " 0.7346938775510204,\n",
       " 0.6428571428571429,\n",
       " 0.6857142857142857)"
      ]
     },
     "execution_count": 19,
     "metadata": {},
     "output_type": "execute_result"
    }
   ],
   "execution_count": 19
  },
  {
   "cell_type": "code",
   "source": [
    "# 绘制特征重要性排序\n",
    "xgb.plot_importance(model_xgb, max_num_features=5)\n",
    "plt.show()"
   ],
   "metadata": {
    "collapsed": false,
    "ExecuteTime": {
     "end_time": "2024-06-14T06:30:45.194211Z",
     "start_time": "2024-06-14T06:30:45.042670Z"
    }
   },
   "id": "edb5492d524fe7e7",
   "outputs": [
    {
     "data": {
      "text/plain": [
       "<Figure size 640x480 with 1 Axes>"
      ],
      "image/png": "[encoded data removed]"
     },
     "metadata": {},
     "output_type": "display_data"
    }
   ],
   "execution_count": 20
  },
  {
   "cell_type": "code",
   "source": [
    "xgb_importance = model_xgb.feature_importances_(type)\n",
    "print(xgb_importance)"
   ],
   "metadata": {
    "collapsed": false,
    "ExecuteTime": {
     "end_time": "2024-06-14T06:30:45.827601Z",
     "start_time": "2024-06-14T06:30:45.195241Z"
    }
   },
   "id": "40e1f6cbbca86738",
   "outputs": [
    {
     "ename": "TypeError",
     "evalue": "'numpy.ndarray' object is not callable",
     "output_type": "error",
     "traceback": [
      "\u001B[0;31m---------------------------------------------------------------------------\u001B[0m",
      "\u001B[0;31mTypeError\u001B[0m                                 Traceback (most recent call last)",
      "Cell \u001B[0;32mIn[21], line 1\u001B[0m\n\u001B[0;32m----> 1\u001B[0m xgb_importance \u001B[38;5;241m=\u001B[39m model_xgb\u001B[38;5;241m.\u001B[39mfeature_importances_(\u001B[38;5;28mtype\u001B[39m)\n\u001B[1;32m      2\u001B[0m \u001B[38;5;28mprint\u001B[39m(xgb_importance)\n",
      "\u001B[0;31mTypeError\u001B[0m: 'numpy.ndarray' object is not callable"
     ]
    }
   ],
   "execution_count": 21
  },
  {
   "cell_type": "code",
   "source": [
    "xgb.plot_tree(model_xgb, num_trees=2)\n",
    "fig = plt.gcf()\n",
    "fig.set_size_inches(150, 100)\n",
    "fig.savefig('tree.png')"
   ],
   "metadata": {
    "collapsed": false
   },
   "id": "233be2f0c3d951c8",
   "outputs": [],
   "execution_count": null
  }
 ],
 "metadata": {
  "kernelspec": {
   "display_name": "Python 3",
   "language": "python",
   "name": "python3"
  },
  "language_info": {
   "codemirror_mode": {
    "name": "ipython",
    "version": 2
   },
   "file_extension": ".py",
   "mimetype": "text/x-python",
   "name": "python",
   "nbconvert_exporter": "python",
   "pygments_lexer": "ipython2",
   "version": "2.7.6"
  }
 },
 "nbformat": 4,
 "nbformat_minor": 5
}
