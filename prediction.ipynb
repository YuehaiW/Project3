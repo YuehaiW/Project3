{
 "cells": [
  {
   "cell_type": "code",
   "id": "initial_id",
   "metadata": {
    "collapsed": true,
    "ExecuteTime": {
     "end_time": "2024-06-11T01:06:05.176050Z",
     "start_time": "2024-06-11T01:06:04.946412Z"
    }
   },
   "source": [
    "import pymysql\n",
    "import pandas as pd\n",
    "import numpy as np\n",
    "import matplotlib.pyplot as plt\n",
    "\n",
    "from sklearn.metrics import accuracy_score, roc_curve, auc, confusion_matrix\n",
    "from xgboost import XGBClassifier\n",
    "from imblearn.over_sampling import RandomOverSampler"
   ],
   "outputs": [],
   "execution_count": 1
  },
  {
   "cell_type": "code",
   "source": [
    "df = pd.read_parquet('ST data.parquet')\n",
    "data = df.copy()\n",
    "# 拆分训练集与测试集\n",
    "train, test = data[data.date <= '20231231'], data[data.date >= '20240101']\n",
    "X_train, y_train = train.drop(['date', 'code', 'is_st'], axis=1), train['is_st']\n",
    "X_test, y_test = test.drop(['date', 'code', 'is_st'], axis=1), test['is_st']\n",
    "# 重采样\n",
    "sampler = RandomOverSampler(random_state=1)\n",
    "X_train_rsl, y_train_rsl = sampler.fit_resample(X_train, y_train)\n",
    "\n",
    "model_xgb = XGBClassifier(n_estimators=90, max_depth=10, reg_alpha=8, reg_lambda=8, gamma=8, learning_rate=0.25, \n",
    "                          objective=\"binary:logistic\", base_score=0.82, eval_metric=\"auc\", seed=123)\n",
    "model_xgb.fit(X_train_rsl, y_train_rsl)\n",
    "y_pred_xgb = model_xgb.predict(X_test)\n",
    "print(\"Test accuracy of XGBoost: {}\".format(accuracy_score(y_test, y_pred_xgb)))\n",
    "xgb_prob = model_xgb.predict_proba(X_test)\n",
    "fpr_xgb, tpr_xgb, _ = roc_curve(y_test, xgb_prob[:, 1])\n",
    "auc_xgb = auc(fpr_xgb, tpr_xgb)\n",
    "print(\"AUC Score: {}\".format(auc_xgb))"
   ],
   "metadata": {
    "collapsed": false,
    "ExecuteTime": {
     "end_time": "2024-06-11T01:10:05.207536Z",
     "start_time": "2024-06-11T01:09:57.266367Z"
    }
   },
   "id": "a872ebabf282a97e",
   "outputs": [
    {
     "name": "stdout",
     "output_type": "stream",
     "text": [
      "Test accuracy of XGBoost: 0.9670483757887357\n",
      "AUC Score: 0.9722709553789008\n"
     ]
    }
   ],
   "execution_count": 3
  },
  {
   "cell_type": "code",
   "source": [
    "# 计算常用指标\n",
    "def compute_indexes(tp, fp, tn, fn):\n",
    "    accuracy = (tp + tn) / (tp + tn + fp + fn)\n",
    "    precision = tp / (tp + fp)\n",
    "    recall = tp / (tp + fn)\n",
    "    F1 = (2 * precision * recall) / (precision + recall)\n",
    "    return accuracy, precision, recall, F1\n",
    "\n",
    "mat = confusion_matrix(y_test, y_pred_xgb)\n",
    "tn, fp, fn, tp = mat[0, 0], mat[0, 1], mat[1, 0], mat[1, 1]\n",
    "compute_indexes(tp, fp, tn, fn)"
   ],
   "metadata": {
    "collapsed": false,
    "ExecuteTime": {
     "end_time": "2024-06-11T01:10:27.637002Z",
     "start_time": "2024-06-11T01:10:27.619992Z"
    }
   },
   "id": "6e0498c62f4818a9",
   "outputs": [
    {
     "data": {
      "text/plain": [
       "(0.9670483757887357,\n",
       " 0.46030330062444247,\n",
       " 0.8376623376623377,\n",
       " 0.5941278065630398)"
      ]
     },
     "execution_count": 4,
     "metadata": {},
     "output_type": "execute_result"
    }
   ],
   "execution_count": 4
  },
  {
   "metadata": {
    "ExecuteTime": {
     "end_time": "2024-06-11T01:46:40.677969Z",
     "start_time": "2024-06-11T01:46:40.647312Z"
    }
   },
   "cell_type": "code",
   "source": [
    "res_pred = test.copy()\n",
    "res_pred['pred'] = y_pred_xgb\n",
    "res_pred = res_pred[res_pred['date'] >= '20240401']\n",
    "symbols = res_pred[res_pred.code.isin(['000070.SZ', '300495.SZ', '000836.SZ', '002435.SZ'])].copy()\n",
    "symbols"
   ],
   "id": "c44c4e9c2654b39f",
   "outputs": [
    {
     "data": {
      "text/plain": [
       "             date       code    net_profit     eps  gross_margin  net_margin  \\\n",
       "129599 2024-04-30  000070.SZ -3.907111e+07  0.0157       12.4331      1.8886   \n",
       "161374 2024-04-30  000836.SZ -3.419424e+07 -0.0278       36.8425    -58.2295   \n",
       "325081 2024-04-30  002435.SZ -2.436987e+07 -0.0081       26.3333     -2.4511   \n",
       "479260 2024-04-30  300495.SZ -1.701636e+08 -0.2518      -56.1700 -21683.4120   \n",
       "\n",
       "             roe     roa  arturn  faturn  ...  turnrate6m          cap  \\\n",
       "129599    0.7410  0.2416  0.4804  0.8401  ...    6.229638  758090.2879   \n",
       "161374   -3.2843 -1.3320  0.1252  0.0828  ...    3.079017  204228.9329   \n",
       "325081   -0.2703 -0.1873  2.4537  0.7279  ...    1.332883  351019.1777   \n",
       "479260 -280.4251 -4.3309  0.0013  0.0108  ...    3.227561   12137.0308   \n",
       "\n",
       "            pb  pe      ps  ctdowndays  ctdownchg  shrcr  is_st  pred  \n",
       "129599  3.9472 NaN  1.5057         3.0   0.145545  36.18      1     0  \n",
       "161374  2.0299 NaN  7.1141         5.0   0.247476  11.92      1     1  \n",
       "325081  0.9436 NaN  1.1605         3.0   0.161185  27.09      1     0  \n",
       "479260     NaN NaN  1.7099         8.0   0.704918  17.87      1     1  \n",
       "\n",
       "[4 rows x 32 columns]"
      ],
      "text/html": [
       "<div>\n",
       "<style scoped>\n",
       "    .dataframe tbody tr th:only-of-type {\n",
       "        vertical-align: middle;\n",
       "    }\n",
       "\n",
       "    .dataframe tbody tr th {\n",
       "        vertical-align: top;\n",
       "    }\n",
       "\n",
       "    .dataframe thead th {\n",
       "        text-align: right;\n",
       "    }\n",
       "</style>\n",
       "<table border=\"1\" class=\"dataframe\">\n",
       "  <thead>\n",
       "    <tr style=\"text-align: right;\">\n",
       "      <th></th>\n",
       "      <th>date</th>\n",
       "      <th>code</th>\n",
       "      <th>net_profit</th>\n",
       "      <th>eps</th>\n",
       "      <th>gross_margin</th>\n",
       "      <th>net_margin</th>\n",
       "      <th>roe</th>\n",
       "      <th>roa</th>\n",
       "      <th>arturn</th>\n",
       "      <th>faturn</th>\n",
       "      <th>...</th>\n",
       "      <th>turnrate6m</th>\n",
       "      <th>cap</th>\n",
       "      <th>pb</th>\n",
       "      <th>pe</th>\n",
       "      <th>ps</th>\n",
       "      <th>ctdowndays</th>\n",
       "      <th>ctdownchg</th>\n",
       "      <th>shrcr</th>\n",
       "      <th>is_st</th>\n",
       "      <th>pred</th>\n",
       "    </tr>\n",
       "  </thead>\n",
       "  <tbody>\n",
       "    <tr>\n",
       "      <th>129599</th>\n",
       "      <td>2024-04-30</td>\n",
       "      <td>000070.SZ</td>\n",
       "      <td>-3.907111e+07</td>\n",
       "      <td>0.0157</td>\n",
       "      <td>12.4331</td>\n",
       "      <td>1.8886</td>\n",
       "      <td>0.7410</td>\n",
       "      <td>0.2416</td>\n",
       "      <td>0.4804</td>\n",
       "      <td>0.8401</td>\n",
       "      <td>...</td>\n",
       "      <td>6.229638</td>\n",
       "      <td>758090.2879</td>\n",
       "      <td>3.9472</td>\n",
       "      <td>NaN</td>\n",
       "      <td>1.5057</td>\n",
       "      <td>3.0</td>\n",
       "      <td>0.145545</td>\n",
       "      <td>36.18</td>\n",
       "      <td>1</td>\n",
       "      <td>0</td>\n",
       "    </tr>\n",
       "    <tr>\n",
       "      <th>161374</th>\n",
       "      <td>2024-04-30</td>\n",
       "      <td>000836.SZ</td>\n",
       "      <td>-3.419424e+07</td>\n",
       "      <td>-0.0278</td>\n",
       "      <td>36.8425</td>\n",
       "      <td>-58.2295</td>\n",
       "      <td>-3.2843</td>\n",
       "      <td>-1.3320</td>\n",
       "      <td>0.1252</td>\n",
       "      <td>0.0828</td>\n",
       "      <td>...</td>\n",
       "      <td>3.079017</td>\n",
       "      <td>204228.9329</td>\n",
       "      <td>2.0299</td>\n",
       "      <td>NaN</td>\n",
       "      <td>7.1141</td>\n",
       "      <td>5.0</td>\n",
       "      <td>0.247476</td>\n",
       "      <td>11.92</td>\n",
       "      <td>1</td>\n",
       "      <td>1</td>\n",
       "    </tr>\n",
       "    <tr>\n",
       "      <th>325081</th>\n",
       "      <td>2024-04-30</td>\n",
       "      <td>002435.SZ</td>\n",
       "      <td>-2.436987e+07</td>\n",
       "      <td>-0.0081</td>\n",
       "      <td>26.3333</td>\n",
       "      <td>-2.4511</td>\n",
       "      <td>-0.2703</td>\n",
       "      <td>-0.1873</td>\n",
       "      <td>2.4537</td>\n",
       "      <td>0.7279</td>\n",
       "      <td>...</td>\n",
       "      <td>1.332883</td>\n",
       "      <td>351019.1777</td>\n",
       "      <td>0.9436</td>\n",
       "      <td>NaN</td>\n",
       "      <td>1.1605</td>\n",
       "      <td>3.0</td>\n",
       "      <td>0.161185</td>\n",
       "      <td>27.09</td>\n",
       "      <td>1</td>\n",
       "      <td>0</td>\n",
       "    </tr>\n",
       "    <tr>\n",
       "      <th>479260</th>\n",
       "      <td>2024-04-30</td>\n",
       "      <td>300495.SZ</td>\n",
       "      <td>-1.701636e+08</td>\n",
       "      <td>-0.2518</td>\n",
       "      <td>-56.1700</td>\n",
       "      <td>-21683.4120</td>\n",
       "      <td>-280.4251</td>\n",
       "      <td>-4.3309</td>\n",
       "      <td>0.0013</td>\n",
       "      <td>0.0108</td>\n",
       "      <td>...</td>\n",
       "      <td>3.227561</td>\n",
       "      <td>12137.0308</td>\n",
       "      <td>NaN</td>\n",
       "      <td>NaN</td>\n",
       "      <td>1.7099</td>\n",
       "      <td>8.0</td>\n",
       "      <td>0.704918</td>\n",
       "      <td>17.87</td>\n",
       "      <td>1</td>\n",
       "      <td>1</td>\n",
       "    </tr>\n",
       "  </tbody>\n",
       "</table>\n",
       "<p>4 rows × 32 columns</p>\n",
       "</div>"
      ]
     },
     "execution_count": 17,
     "metadata": {},
     "output_type": "execute_result"
    }
   ],
   "execution_count": 17
  },
  {
   "metadata": {
    "ExecuteTime": {
     "end_time": "2024-06-11T01:33:53.774353Z",
     "start_time": "2024-06-11T01:33:48.642619Z"
    }
   },
   "cell_type": "code",
   "source": [
    "conn = pymysql.connect(\n",
    "        host=\"192.168.7.93\",\n",
    "        user=\"quantchina\",\n",
    "        password=\"zMxq7VNYJljTFIQ8\",\n",
    "        database=\"wind\",\n",
    "        charset=\"gbk\"\n",
    ")\n",
    "cursor = conn.cursor()\n",
    "\n",
    "query = \"\"\"\n",
    "        select TRADE_DT, S_INFO_WINDCODE, S_VAL_MV\n",
    "        from ASHAREEODDERIVATIVEINDICATOR\n",
    "        where TRADE_DT between '20240401' and '20240531'\n",
    "        order by TRADE_DT, S_INFO_WINDCODE\n",
    "        \"\"\"\n",
    "cursor.execute(query)\n",
    "data = cursor.fetchall()\n",
    "cap = pd.DataFrame(data, columns=['date', 'code', 'mv'])\n",
    "cap['mv'] = cap['mv'].astype(float)\n",
    "cap['date'] = pd.to_datetime(cap['date'])"
   ],
   "id": "ec337ca6a51e158a",
   "outputs": [],
   "execution_count": 8
  },
  {
   "metadata": {
    "ExecuteTime": {
     "end_time": "2024-06-11T01:35:09.673145Z",
     "start_time": "2024-06-11T01:35:07.407847Z"
    }
   },
   "cell_type": "code",
   "source": [
    "# 计算每月的平均市值作为当月结果\n",
    "monthly_mv = cap.groupby([cap['date'].dt.strftime('%Y-%m'), 'code'])['mv'].mean()\n",
    "monthly_mv"
   ],
   "id": "f679d3df5da36c0a",
   "outputs": [
    {
     "data": {
      "text/plain": [
       "date     code     \n",
       "2024-04  000001.SZ    2.035487e+07\n",
       "         000002.SZ    8.787365e+06\n",
       "         000004.SZ    1.565750e+05\n",
       "         000005.SZ    8.785856e+04\n",
       "         000006.SZ    4.999932e+05\n",
       "                          ...     \n",
       "2024-05  873706.BJ    9.812245e+04\n",
       "         873726.BJ    1.509957e+05\n",
       "         873806.BJ    2.465847e+05\n",
       "         873833.BJ    7.317553e+04\n",
       "         920002.BJ    2.029913e+05\n",
       "Name: mv, Length: 10728, dtype: float64"
      ]
     },
     "execution_count": 9,
     "metadata": {},
     "output_type": "execute_result"
    }
   ],
   "execution_count": 9
  },
  {
   "metadata": {
    "ExecuteTime": {
     "end_time": "2024-06-11T01:35:31.148639Z",
     "start_time": "2024-06-11T01:35:31.141154Z"
    }
   },
   "cell_type": "code",
   "source": [
    "cap04 = monthly_mv['2024-04']\n",
    "cap05 = monthly_mv['2024-05']"
   ],
   "id": "c27adaf95c280e3",
   "outputs": [],
   "execution_count": 10
  },
  {
   "metadata": {
    "ExecuteTime": {
     "end_time": "2024-06-11T01:46:58.167451Z",
     "start_time": "2024-06-11T01:46:58.146630Z"
    }
   },
   "cell_type": "code",
   "source": [
    "st04 = res_pred[res_pred['is_st']==1]\n",
    "cap04_st = pd.merge(cap04, st04[['code', 'is_st']], on='code')\n",
    "cap04_st.head()"
   ],
   "id": "aa81ea635031ee0e",
   "outputs": [
    {
     "data": {
      "text/plain": [
       "        code            mv  is_st\n",
       "0  000007.SZ  1.431523e+05      1\n",
       "1  000023.SZ  4.564155e+04      1\n",
       "2  000070.SZ  7.085413e+05      1\n",
       "3  000155.SZ  1.593966e+06      1\n",
       "4  000156.SZ  1.370367e+06      1"
      ],
      "text/html": [
       "<div>\n",
       "<style scoped>\n",
       "    .dataframe tbody tr th:only-of-type {\n",
       "        vertical-align: middle;\n",
       "    }\n",
       "\n",
       "    .dataframe tbody tr th {\n",
       "        vertical-align: top;\n",
       "    }\n",
       "\n",
       "    .dataframe thead th {\n",
       "        text-align: right;\n",
       "    }\n",
       "</style>\n",
       "<table border=\"1\" class=\"dataframe\">\n",
       "  <thead>\n",
       "    <tr style=\"text-align: right;\">\n",
       "      <th></th>\n",
       "      <th>code</th>\n",
       "      <th>mv</th>\n",
       "      <th>is_st</th>\n",
       "    </tr>\n",
       "  </thead>\n",
       "  <tbody>\n",
       "    <tr>\n",
       "      <th>0</th>\n",
       "      <td>000007.SZ</td>\n",
       "      <td>1.431523e+05</td>\n",
       "      <td>1</td>\n",
       "    </tr>\n",
       "    <tr>\n",
       "      <th>1</th>\n",
       "      <td>000023.SZ</td>\n",
       "      <td>4.564155e+04</td>\n",
       "      <td>1</td>\n",
       "    </tr>\n",
       "    <tr>\n",
       "      <th>2</th>\n",
       "      <td>000070.SZ</td>\n",
       "      <td>7.085413e+05</td>\n",
       "      <td>1</td>\n",
       "    </tr>\n",
       "    <tr>\n",
       "      <th>3</th>\n",
       "      <td>000155.SZ</td>\n",
       "      <td>1.593966e+06</td>\n",
       "      <td>1</td>\n",
       "    </tr>\n",
       "    <tr>\n",
       "      <th>4</th>\n",
       "      <td>000156.SZ</td>\n",
       "      <td>1.370367e+06</td>\n",
       "      <td>1</td>\n",
       "    </tr>\n",
       "  </tbody>\n",
       "</table>\n",
       "</div>"
      ]
     },
     "execution_count": 18,
     "metadata": {},
     "output_type": "execute_result"
    }
   ],
   "execution_count": 18
  },
  {
   "metadata": {},
   "cell_type": "code",
   "source": [
    "st_model = res_pred.loc[res_pred['pred']==1, 'code']\n",
    "st_model = cap04[st_model]"
   ],
   "id": "2944e89e9a6a0cce",
   "outputs": [],
   "execution_count": null
  },
  {
   "metadata": {
    "ExecuteTime": {
     "end_time": "2024-06-11T02:06:09.901869Z",
     "start_time": "2024-06-11T02:06:09.055677Z"
    }
   },
   "cell_type": "code",
   "source": [
    "import seaborn as sns\n",
    "\n",
    "sns.histplot(np.log(cap04), kde=True, stat='probability', alpha=0.5, color='red', label='all')\n",
    "sns.histplot(np.log(cap04_st['mv']), kde=True, stat='probability', alpha=0.5, color='cyan', label='real ST')\n",
    "sns.histplot(np.log(st_model), kde=True, stat='probability', alpha=0.5, color='orange', label='prediction')\n",
    "plt.xlabel('Capitalization')\n",
    "plt.legend()\n",
    "plt.show()"
   ],
   "id": "f5e56774dabe27d",
   "outputs": [
    {
     "data": {
      "text/plain": [
       "<Figure size 640x480 with 1 Axes>"
      ],
      "image/png": "[encoded data removed]"
     },
     "metadata": {},
     "output_type": "display_data"
    }
   ],
   "execution_count": 33
  },
  {
   "metadata": {
    "ExecuteTime": {
     "end_time": "2024-06-11T02:09:32.448300Z",
     "start_time": "2024-06-11T02:09:32.432848Z"
    }
   },
   "cell_type": "code",
   "source": [
    "from scipy.stats import skew, kurtosis\n",
    "def eda(arr):\n",
    "    arr = np.log(arr)\n",
    "    l = [np.mean(arr), np.std(arr), skew(arr), kurtosis(arr)]\n",
    "    return np.array(l).reshape([1,4])\n",
    "\n",
    "tbl = pd.DataFrame(np.concatenate([eda(cap04), eda(cap04_st['mv']), eda(st_model)], axis=0), \n",
    "                   columns=['mean', 'std', 'skew', 'kurtosis'], \n",
    "                   index=['all', 'real_st', 'pred_st'])\n",
    "print(tbl)"
   ],
   "id": "84416684191bbebc",
   "outputs": [
    {
     "name": "stdout",
     "output_type": "stream",
     "text": [
      "              mean       std      skew  kurtosis\n",
      "all      13.229187  1.144062  1.036566  1.926998\n",
      "real_st  12.477094  0.918327  0.651715  0.670944\n",
      "pred_st  12.335971  0.734660  0.524844  1.030307\n"
     ]
    }
   ],
   "execution_count": 34
  },
  {
   "metadata": {
    "ExecuteTime": {
     "end_time": "2024-06-11T02:35:10.996069Z",
     "start_time": "2024-06-11T02:35:10.988701Z"
    }
   },
   "cell_type": "code",
   "source": [
    "# 将最小和最大市值作为端点拆分10组\n",
    "np.log(cap04.min()), np.log(cap04.max())"
   ],
   "id": "b8308e680efeda70",
   "outputs": [
    {
     "data": {
      "text/plain": [
       "(10.353760697320826, 19.224153527933243)"
      ]
     },
     "execution_count": 38,
     "metadata": {},
     "output_type": "execute_result"
    }
   ],
   "execution_count": 38
  },
  {
   "metadata": {
    "ExecuteTime": {
     "end_time": "2024-06-11T06:17:39.255447Z",
     "start_time": "2024-06-11T06:17:39.238917Z"
    }
   },
   "cell_type": "code",
   "source": [
    "bin_plot = pd.DataFrame(np.log(cap04).copy())\n",
    "bins = np.linspace(np.log(cap04.min()), np.log(cap04.max()), 11)\n",
    "bin_plot['group'] = pd.cut(bin_plot['mv'], bins=bins, labels=range(1, 11))\n",
    "bin_plot.head()"
   ],
   "id": "3e05c3048b7aa895",
   "outputs": [
    {
     "data": {
      "text/plain": [
       "                  mv group\n",
       "code                      \n",
       "000001.SZ  16.828831     8\n",
       "000002.SZ  15.988825     7\n",
       "000004.SZ  11.961290     2\n",
       "000005.SZ  11.383484     2\n",
       "000006.SZ  13.122350     4"
      ],
      "text/html": [
       "<div>\n",
       "<style scoped>\n",
       "    .dataframe tbody tr th:only-of-type {\n",
       "        vertical-align: middle;\n",
       "    }\n",
       "\n",
       "    .dataframe tbody tr th {\n",
       "        vertical-align: top;\n",
       "    }\n",
       "\n",
       "    .dataframe thead th {\n",
       "        text-align: right;\n",
       "    }\n",
       "</style>\n",
       "<table border=\"1\" class=\"dataframe\">\n",
       "  <thead>\n",
       "    <tr style=\"text-align: right;\">\n",
       "      <th></th>\n",
       "      <th>mv</th>\n",
       "      <th>group</th>\n",
       "    </tr>\n",
       "    <tr>\n",
       "      <th>code</th>\n",
       "      <th></th>\n",
       "      <th></th>\n",
       "    </tr>\n",
       "  </thead>\n",
       "  <tbody>\n",
       "    <tr>\n",
       "      <th>000001.SZ</th>\n",
       "      <td>16.828831</td>\n",
       "      <td>8</td>\n",
       "    </tr>\n",
       "    <tr>\n",
       "      <th>000002.SZ</th>\n",
       "      <td>15.988825</td>\n",
       "      <td>7</td>\n",
       "    </tr>\n",
       "    <tr>\n",
       "      <th>000004.SZ</th>\n",
       "      <td>11.961290</td>\n",
       "      <td>2</td>\n",
       "    </tr>\n",
       "    <tr>\n",
       "      <th>000005.SZ</th>\n",
       "      <td>11.383484</td>\n",
       "      <td>2</td>\n",
       "    </tr>\n",
       "    <tr>\n",
       "      <th>000006.SZ</th>\n",
       "      <td>13.122350</td>\n",
       "      <td>4</td>\n",
       "    </tr>\n",
       "  </tbody>\n",
       "</table>\n",
       "</div>"
      ]
     },
     "execution_count": 72,
     "metadata": {},
     "output_type": "execute_result"
    }
   ],
   "execution_count": 72
  },
  {
   "metadata": {
    "ExecuteTime": {
     "end_time": "2024-06-11T07:07:38.549732Z",
     "start_time": "2024-06-11T07:07:38.534953Z"
    }
   },
   "cell_type": "code",
   "source": [
    "# 统计市值落在每个区间内的股票数量\n",
    "count_df = pd.DataFrame(bin_plot['group'].value_counts().to_frame('all').sort_index())\n",
    "group_st = bin_plot[bin_plot.index.isin(cap04_st.code)].copy()\n",
    "group_model = bin_plot[bin_plot.index.isin(st_model.index)].copy()"
   ],
   "id": "4508088069dbc426",
   "outputs": [],
   "execution_count": 89
  },
  {
   "metadata": {
    "ExecuteTime": {
     "end_time": "2024-06-11T07:46:23.056874Z",
     "start_time": "2024-06-11T07:46:23.049019Z"
    }
   },
   "cell_type": "code",
   "source": [
    "count_df['ST'] = group_st['group'].value_counts().sort_index()\n",
    "count_df['model'] = group_model['group'].value_counts().sort_index()"
   ],
   "id": "1f39e4a9e3283036",
   "outputs": [],
   "execution_count": 102
  },
  {
   "metadata": {
    "ExecuteTime": {
     "end_time": "2024-06-11T07:46:25.513424Z",
     "start_time": "2024-06-11T07:46:25.496529Z"
    }
   },
   "cell_type": "code",
   "source": [
    "freq_df = count_df / count_df.sum(axis=0)\n",
    "freq_df"
   ],
   "id": "a694450fe9a957b8",
   "outputs": [
    {
     "data": {
      "text/plain": [
       "         all        ST     model\n",
       "1   0.015663  0.060606  0.055402\n",
       "2   0.110013  0.338384  0.371191\n",
       "3   0.372739  0.333333  0.407202\n",
       "4   0.264964  0.191919  0.130194\n",
       "5   0.143949  0.060606  0.030471\n",
       "6   0.055752  0.010101  0.005540\n",
       "7   0.023494  0.005051  0.000000\n",
       "8   0.009137  0.000000  0.000000\n",
       "9   0.002797  0.000000  0.000000\n",
       "10  0.001492  0.000000  0.000000"
      ],
      "text/html": [
       "<div>\n",
       "<style scoped>\n",
       "    .dataframe tbody tr th:only-of-type {\n",
       "        vertical-align: middle;\n",
       "    }\n",
       "\n",
       "    .dataframe tbody tr th {\n",
       "        vertical-align: top;\n",
       "    }\n",
       "\n",
       "    .dataframe thead th {\n",
       "        text-align: right;\n",
       "    }\n",
       "</style>\n",
       "<table border=\"1\" class=\"dataframe\">\n",
       "  <thead>\n",
       "    <tr style=\"text-align: right;\">\n",
       "      <th></th>\n",
       "      <th>all</th>\n",
       "      <th>ST</th>\n",
       "      <th>model</th>\n",
       "    </tr>\n",
       "  </thead>\n",
       "  <tbody>\n",
       "    <tr>\n",
       "      <th>1</th>\n",
       "      <td>0.015663</td>\n",
       "      <td>0.060606</td>\n",
       "      <td>0.055402</td>\n",
       "    </tr>\n",
       "    <tr>\n",
       "      <th>2</th>\n",
       "      <td>0.110013</td>\n",
       "      <td>0.338384</td>\n",
       "      <td>0.371191</td>\n",
       "    </tr>\n",
       "    <tr>\n",
       "      <th>3</th>\n",
       "      <td>0.372739</td>\n",
       "      <td>0.333333</td>\n",
       "      <td>0.407202</td>\n",
       "    </tr>\n",
       "    <tr>\n",
       "      <th>4</th>\n",
       "      <td>0.264964</td>\n",
       "      <td>0.191919</td>\n",
       "      <td>0.130194</td>\n",
       "    </tr>\n",
       "    <tr>\n",
       "      <th>5</th>\n",
       "      <td>0.143949</td>\n",
       "      <td>0.060606</td>\n",
       "      <td>0.030471</td>\n",
       "    </tr>\n",
       "    <tr>\n",
       "      <th>6</th>\n",
       "      <td>0.055752</td>\n",
       "      <td>0.010101</td>\n",
       "      <td>0.005540</td>\n",
       "    </tr>\n",
       "    <tr>\n",
       "      <th>7</th>\n",
       "      <td>0.023494</td>\n",
       "      <td>0.005051</td>\n",
       "      <td>0.000000</td>\n",
       "    </tr>\n",
       "    <tr>\n",
       "      <th>8</th>\n",
       "      <td>0.009137</td>\n",
       "      <td>0.000000</td>\n",
       "      <td>0.000000</td>\n",
       "    </tr>\n",
       "    <tr>\n",
       "      <th>9</th>\n",
       "      <td>0.002797</td>\n",
       "      <td>0.000000</td>\n",
       "      <td>0.000000</td>\n",
       "    </tr>\n",
       "    <tr>\n",
       "      <th>10</th>\n",
       "      <td>0.001492</td>\n",
       "      <td>0.000000</td>\n",
       "      <td>0.000000</td>\n",
       "    </tr>\n",
       "  </tbody>\n",
       "</table>\n",
       "</div>"
      ]
     },
     "execution_count": 103,
     "metadata": {},
     "output_type": "execute_result"
    }
   ],
   "execution_count": 103
  },
  {
   "metadata": {
    "ExecuteTime": {
     "end_time": "2024-06-11T08:21:51.640434Z",
     "start_time": "2024-06-11T08:21:51.380885Z"
    }
   },
   "cell_type": "code",
   "source": [
    "seq = np.linspace(1, 11, 10) \n",
    "plt.bar(x=seq, height=freq_df[count_df.columns[0]], color='red', width=0.25, label='all')\n",
    "plt.bar(x=seq+0.25, height=freq_df[count_df.columns[1]], color='cyan', width=0.25, label='real ST')\n",
    "plt.bar(x=seq+0.5, height=freq_df[count_df.columns[2]], color='orange', width=0.25, label='model')\n",
    "plt.xlabel('Group')\n",
    "plt.ylabel('Frequency')\n",
    "plt.legend()\n",
    "plt.show()"
   ],
   "id": "122abc75bab2f843",
   "outputs": [
    {
     "data": {
      "text/plain": [
       "<Figure size 640x480 with 1 Axes>"
      ],
      "image/png": "[encoded data removed]"
     },
     "metadata": {},
     "output_type": "display_data"
    }
   ],
   "execution_count": 105
  },
  {
   "metadata": {
    "jupyter": {
     "is_executing": true
    }
   },
   "cell_type": "code",
   "source": "bins",
   "id": "dc2ab3400e9a967a",
   "outputs": [],
   "execution_count": null
  },
  {
   "metadata": {},
   "cell_type": "code",
   "outputs": [],
   "execution_count": null,
   "source": "",
   "id": "3bf355318c83175a"
  }
 ],
 "metadata": {
  "kernelspec": {
   "display_name": "Python 3",
   "language": "python",
   "name": "python3"
  },
  "language_info": {
   "codemirror_mode": {
    "name": "ipython",
    "version": 2
   },
   "file_extension": ".py",
   "mimetype": "text/x-python",
   "name": "python",
   "nbconvert_exporter": "python",
   "pygments_lexer": "ipython2",
   "version": "2.7.6"
  }
 },
 "nbformat": 4,
 "nbformat_minor": 5
}
